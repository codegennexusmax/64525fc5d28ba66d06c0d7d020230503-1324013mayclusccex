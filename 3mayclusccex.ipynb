{
 "cells": [
  {
   "cell_type": "markdown",
   "id": "c10b094d",
   "metadata": {},
   "source": [
    "***GENERATED CODE FOR 3mayclusccex PIPELINE.***"
   ]
  },
  {
   "cell_type": "markdown",
   "id": "b0aea8e7",
   "metadata": {},
   "source": [
    "***DON'T EDIT THIS CODE.***"
   ]
  },
  {
   "cell_type": "markdown",
   "id": "319ccc8d",
   "metadata": {},
   "source": [
    "***CONNECTOR FUNCTIONS TO READ DATA.***"
   ]
  },
  {
   "cell_type": "code",
   "execution_count": null,
   "id": "67909e52",
   "metadata": {},
   "outputs": [],
   "source": [
    "from hdfs3 import HDFileSystem\n",
    "import datetime\n",
    "import logging\n",
    "import warnings\n",
    "warnings.filterwarnings('ignore')\n",
    "logging.basicConfig(format='%(levelname)s:%(message)s', level=logging.INFO)\n",
    "\n",
    "\n",
    "class HDFSConnector:\n",
    "\n",
    "    def fetch(spark, config):\n",
    "        ################### INPUT HADOOP HOST PORT TO CONNECT WITH ###############################\n",
    "        hdfs = HDFileSystem(\n",
    "            host=eval(config)['host'], port=eval(config)['port'])\n",
    "        with hdfs.open(eval(config)['url']) as f:\n",
    "            df = pd.read_csv(f, error_bad_lines=False)\n",
    "        df = spark.createDataFrame(dfPd)\n",
    "        display(df.limit(2).toPandas())\n",
    "        return df\n",
    "\n",
    "    def put(df, spark, config):\n",
    "        return df.write.format('csv').options(header='true' if eval(config)[\"is_header\"] == \"Use Header Line\" else 'false',\n",
    "                                              delimiter=eval(config)[\"delimiter\"]).save((\"%s %s\") % (datetime.datetime.now().strftime(\"%Y-%m-%d %H.%M.%S\")+\"_\", eval(config)['url']))\n"
   ]
  },
  {
   "cell_type": "markdown",
   "id": "16dec7ed",
   "metadata": {},
   "source": [
    "***TRANSFORMATIONS FUNCTIONS THAT WILL BE APPLIED ON DATA***"
   ]
  },
  {
   "cell_type": "code",
   "execution_count": null,
   "id": "374a2dae",
   "metadata": {},
   "outputs": [],
   "source": [
    "import json\n",
    "from pyspark.sql.types import IntegerType\n",
    "from pyspark.ml.feature import StringIndexer\n",
    "from pyspark.sql.functions import col, when\n",
    "from pyspark.sql.types import IntegerType\n",
    "from pyspark.sql.functions import mean, stddev, min, max, col\n",
    "\n",
    "\n",
    "class CleanseData:\n",
    "    # def __init__(self,df):\n",
    "    #     #print()\n",
    "\n",
    "    def replaceByMean(self, feature, df, mean_=-1):\n",
    "\n",
    "        meanValue = df.select(mean(col(feature.name)).alias(\n",
    "            'mean')).collect()[0][\"mean\"]\n",
    "        df.fillna(meanValue, subset=[feature.name])\n",
    "        df.withColumn(feature.name, when(col(feature.name) == \" \",\n",
    "                      meanValue).otherwise(col(feature.name).cast(\"Integer\")))\n",
    "        return df\n",
    "\n",
    "    def replaceByMax(self, feature, df, max_=-1):\n",
    "        maxValue = df.select(max(col(feature.name)).alias('max')).collect()[\n",
    "            0][\"max\"]\n",
    "        df.fillna(maxValue, subset=[feature.name])\n",
    "        df = df.withColumn(feature.name,\n",
    "                           when(col(feature.name) == \" \", maxValue).otherwise(col(feature.name)))\n",
    "        return df\n",
    "\n",
    "    def replaceByMin(self, feature, df, min_=-1):\n",
    "        minValue = df.select(min(col(feature.name)).alias('min')).collect()[\n",
    "            0][\"min\"]\n",
    "        df.fillna(minValue, subset=[feature.name])\n",
    "        df = df.withColumn(feature.name,\n",
    "                           when(col(feature.name) == \" \", minValue).otherwise(col(feature.name)))\n",
    "        return df\n",
    "\n",
    "    def replaceByStandardDeviation(self, feature, df, stddev_=-1):\n",
    "        stddevValue = df.select(stddev(col(feature.name)).alias(\n",
    "            'stddev')).collect()[0][\"stddev\"]\n",
    "        df.fillna(stddevValue, subset=[feature.name])\n",
    "        df = df.withColumn(feature.name,\n",
    "                           when(col(feature.name) == \" \", stddevValue).otherwise(col(feature.name)))\n",
    "        return df\n",
    "\n",
    "    def replaceDateRandomly(self, feature, df):\n",
    "        fillValue = df.where(col(feature.name).isNotNull()\n",
    "                             ).head(1)[0][feature.name]\n",
    "        df.fillna(str(fillValue), subset=[feature.name])\n",
    "        df = df.withColumn(feature.name,\n",
    "                           when(col(feature.name) == \" \", fillValue).otherwise(col(feature.name)))\n",
    "        # print(\"CleanseData:replaceDateRandomly Schema : \", df.#printSchema())\n",
    "        return df\n",
    "\n",
    "    def replaceNullValues(self, fList, df):\n",
    "        featuresList = df.schema.fields\n",
    "        for featureObj in fList:\n",
    "            for feat in featuresList:\n",
    "                if featureObj[\"feature\"] in feat.name:\n",
    "                    featureName = feat\n",
    "                    if \"mean\" in featureObj[\"replaceby\"]:\n",
    "                        df = self.replaceByMean(featureName, df)\n",
    "                    elif \"max\" in featureObj[\"replaceby\"]:\n",
    "                        df = self.replaceByMax(featureName, df)\n",
    "                    elif \"min\" in featureObj[\"replaceby\"]:\n",
    "                        df = self.replaceByMin(featureName, df)\n",
    "                    elif \"stddev\" in featureObj[\"replaceby\"]:\n",
    "                        df = self.replaceByStandardDeviation(featureName, df)\n",
    "                    elif \"random\" in featureObj[\"replaceby\"]:\n",
    "                        df = self.replaceDateRandomly(featureName, df)\n",
    "        return df\n",
    "\n",
    "\n",
    "def StringIndexerTransform(df, params, transformationData={}):\n",
    "    dfReturn = df\n",
    "    feature = params[\"feature\"]\n",
    "\n",
    "    dfReturn = dfReturn.fillna({feature: ''})\n",
    "    outcol = feature + \"_stringindexer\"\n",
    "    indexer = StringIndexer(\n",
    "        inputCol=feature, outputCol=outcol, handleInvalid=\"skip\")\n",
    "    indexed = indexer.fit(dfReturn).transform(dfReturn)\n",
    "    dfReturn = indexed\n",
    "    distinct_values_list = dfReturn.select(\n",
    "        outcol).distinct().rdd.map(lambda r: r[0]).collect()\n",
    "    len_distinct_values_list = len(distinct_values_list)\n",
    "    if len_distinct_values_list <= 4:\n",
    "        changed_type_df = dfReturn.withColumn(\n",
    "            outcol, dfReturn[outcol].cast(IntegerType()))\n",
    "        return changed_type_df\n",
    "    return dfReturn\n",
    "\n",
    "\n",
    "class TransformationMain:\n",
    "    # TODO: change df argument in run with following\n",
    "    def run(transformationDF, config):\n",
    "        configObj = json.loads(config)\n",
    "        featureData = configObj[\"FE\"]\n",
    "        transformationDF = CleanseData().replaceNullValues(featureData, transformationDF)\n",
    "        transformationDF = StringIndexerTransform(transformationDF, {'transformationsData': [{'feature_label': 'CUST_ID', 'transformation_label': 'String Indexer'}], 'feature': 'CUST_ID', 'type': 'string', 'selected': 'True', 'replaceby': 'max', 'stats': {\n",
    "                                                  'count': '99', 'mean': '', 'stddev': '', 'min': 'C10001', 'max': 'C10103', 'missing': '0', 'distinct': '99'}, 'transformation': [{'transformation': 'String Indexer', 'selectedAsDefault': 1}], 'updatedLabel': 'CUST_ID'}, {'feature_label': 'CUST_ID', 'transformation_label': 'String Indexer'})\n",
    "        transformationDF = transformationDF.drop('CUST_ID')\n",
    "        display(transformationDF.limit(2).toPandas())\n",
    "        return transformationDF\n"
   ]
  },
  {
   "cell_type": "markdown",
   "id": "f88fb589",
   "metadata": {},
   "source": [
    "***AUTOML FUNCTIONS***"
   ]
  },
  {
   "cell_type": "code",
   "execution_count": null,
   "id": "ee9c0472",
   "metadata": {},
   "outputs": [],
   "source": [
    "import json\n",
    "\n",
    "\n",
    "class Clustering:\n",
    "\n",
    "    def run(spark_DF, spark, config):\n",
    "        stageAttributes = json.loads(config)\n",
    "        stageAttributes['model']\n",
    "        stageAttributes['TrainingPercent']\n"
   ]
  },
  {
   "cell_type": "markdown",
   "id": "55e04956",
   "metadata": {},
   "source": [
    "***READING DATAFRAME***"
   ]
  },
  {
   "cell_type": "code",
   "execution_count": null,
   "id": "6d6eeee3",
   "metadata": {},
   "outputs": [],
   "source": [
    "############## CREATE SPARK SESSION ############################ ENTER YOUR SPARK MASTER IP AND PORT TO CONNECT TO SERVER ################from pyspark.sql import SparkSession\n",
    "spark = SparkSession.builder.master('spark://0.0.0.0:0000').getOrCreate()\n",
    "#%run 3mayclusccexHooks.ipynb\n",
    "try:\n",
    "\t#sourcePreExecutionHook()\n",
    "\n",
    "\tmayclusccexhdfs = HDFSConnector.fetch(spark, \"{'url': '/FileStore/platform/extra/tempFile1683120065.csv', 'filename': 'tempFile1683120065.csv', 'delimiter': ',', 'file_type': 'Delimeted', 'is_header': 'Use Header Line', 'server_url': '/numtraPlatform/NumtraPlatformV3/uploads/platform/'}\")\n",
    "\t#sourcePostExecutionHook(mayclusccexhdfs)\n",
    "\n",
    "except Exception as ex: \n",
    "\tlogging.error(ex)\n"
   ]
  },
  {
   "cell_type": "markdown",
   "id": "6fd2f909",
   "metadata": {},
   "source": [
    "***TRANSFORMING DATAFRAME***"
   ]
  },
  {
   "cell_type": "code",
   "execution_count": null,
   "id": "5a7fd8ce",
   "metadata": {},
   "outputs": [],
   "source": [
    "#%run 3mayclusccexHooks.ipynb\n",
    "try:\n",
    "\t#transformationPreExecutionHook()\n",
    "\n",
    "\tmayclusccexautofe = TransformationMain.run(mayclusccexhdfs,json.dumps( {\"FE\": [{\"transformationsData\": [{\"feature_label\": \"CUST_ID\", \"transformation_label\": \"String Indexer\"}], \"feature\": \"CUST_ID\", \"type\": \"string\", \"selected\": \"True\", \"replaceby\": \"max\", \"stats\": {\"count\": \"99\", \"mean\": \"\", \"stddev\": \"\", \"min\": \"C10001\", \"max\": \"C10103\", \"missing\": \"0\", \"distinct\": \"99\"}, \"transformation\": [{\"transformation\": \"String Indexer\", \"selectedAsDefault\": 1}], \"updatedLabel\": \"CUST_ID\"}, {\"transformationsData\": [{\"transformation_label\": \"novalue\"}], \"feature\": \"BALANCE\", \"type\": \"real\", \"selected\": \"True\", \"replaceby\": \"mean\", \"stats\": {\"count\": \"99\", \"mean\": \"2475.26\", \"stddev\": \"2438.67\", \"min\": \"3.78631\", \"max\": \"12136.21996\", \"missing\": \"0\"}, \"transformation\": [{\"transformation\": \"novalue\", \"selectedAsDefault\": 1}], \"updatedLabel\": \"BALANCE\"}, {\"transformationsData\": [{\"transformation_label\": \"novalue\"}], \"feature\": \"BALANCE_FREQUENCY\", \"type\": \"real\", \"selected\": \"True\", \"replaceby\": \"mean\", \"stats\": {\"count\": \"99\", \"mean\": \"0.91\", \"stddev\": \"0.18\", \"min\": \"0.090909\", \"max\": \"1.0\", \"missing\": \"0\"}, \"transformation\": [{\"transformation\": \"novalue\", \"selectedAsDefault\": 1}], \"updatedLabel\": \"BALANCE_FREQUENCY\"}, {\"transformationsData\": [{\"transformation_label\": \"novalue\"}], \"feature\": \"PURCHASES\", \"type\": \"real\", \"selected\": \"True\", \"replaceby\": \"mean\", \"stats\": {\"count\": \"99\", \"mean\": \"992.2\", \"stddev\": \"1443.93\", \"min\": \"0.0\", \"max\": \"7091.01\", \"missing\": \"0\"}, \"transformation\": [{\"transformation\": \"novalue\", \"selectedAsDefault\": 1}], \"updatedLabel\": \"PURCHASES\"}, {\"transformationsData\": [{\"transformation_label\": \"novalue\"}], \"feature\": \"ONEOFF_PURCHASES\", \"type\": \"real\", \"selected\": \"True\", \"replaceby\": \"mean\", \"stats\": {\"count\": \"99\", \"mean\": \"636.51\", \"stddev\": \"1188.11\", \"min\": \"0.0\", \"max\": \"6402.63\", \"missing\": \"0\"}, \"transformation\": [{\"transformation\": \"novalue\", \"selectedAsDefault\": 1}], \"updatedLabel\": \"ONEOFF_PURCHASES\"}, {\"transformationsData\": [{\"transformation_label\": \"novalue\"}], \"feature\": \"INSTALLMENTS_PURCHASES\", \"type\": \"real\", \"selected\": \"True\", \"replaceby\": \"mean\", \"stats\": {\"count\": \"99\", \"mean\": \"355.69\", \"stddev\": \"629.19\", \"min\": \"0.0\", \"max\": \"3952.24\", \"missing\": \"0\"}, \"transformation\": [{\"transformation\": \"novalue\", \"selectedAsDefault\": 1}], \"updatedLabel\": \"INSTALLMENTS_PURCHASES\"}, {\"transformationsData\": [{\"transformation_label\": \"novalue\"}], \"feature\": \"CASH_ADVANCE\", \"type\": \"real\", \"selected\": \"True\", \"replaceby\": \"mean\", \"stats\": {\"count\": \"99\", \"mean\": \"1374.2\", \"stddev\": \"3292.58\", \"min\": \"0.0\", \"max\": \"27296.48576\", \"missing\": \"0\"}, \"transformation\": [{\"transformation\": \"novalue\", \"selectedAsDefault\": 1}], \"updatedLabel\": \"CASH_ADVANCE\"}, {\"transformationsData\": [{\"transformation_label\": \"novalue\"}], \"feature\": \"PURCHASES_FREQUENCY\", \"type\": \"real\", \"selected\": \"True\", \"replaceby\": \"mean\", \"stats\": {\"count\": \"99\", \"mean\": \"0.48\", \"stddev\": \"0.39\", \"min\": \"0.0\", \"max\": \"1.0\", \"missing\": \"0\"}, \"transformation\": [{\"transformation\": \"novalue\", \"selectedAsDefault\": 1}], \"updatedLabel\": \"PURCHASES_FREQUENCY\"}, {\"transformationsData\": [{\"transformation_label\": \"novalue\"}], \"feature\": \"ONEOFF_PURCHASES_FREQUENCY\", \"type\": \"real\", \"selected\": \"True\", \"replaceby\": \"mean\", \"stats\": {\"count\": \"99\", \"mean\": \"0.2\", \"stddev\": \"0.3\", \"min\": \"0.0\", \"max\": \"1.0\", \"missing\": \"0\"}, \"transformation\": [{\"transformation\": \"novalue\", \"selectedAsDefault\": 1}], \"updatedLabel\": \"ONEOFF_PURCHASES_FREQUENC...\"}, {\"transformationsData\": [{\"transformation_label\": \"novalue\"}], \"feature\": \"PURCHASES_INSTALLMENTS_FREQUENCY\", \"type\": \"real\", \"selected\": \"True\", \"replaceby\": \"mean\", \"stats\": {\"count\": \"99\", \"mean\": \"0.34\", \"stddev\": \"0.39\", \"min\": \"0.0\", \"max\": \"1.0\", \"missing\": \"0\"}, \"transformation\": [{\"transformation\": \"novalue\", \"selectedAsDefault\": 1}], \"updatedLabel\": \"PURCHASES_INSTALLMENTS_FR...\"}, {\"transformationsData\": [{\"transformation_label\": \"novalue\"}], \"feature\": \"CASH_ADVANCE_FREQUENCY\", \"type\": \"real\", \"selected\": \"True\", \"replaceby\": \"mean\", \"stats\": {\"count\": \"99\", \"mean\": \"0.16\", \"stddev\": \"0.22\", \"min\": \"0.0\", \"max\": \"0.875\", \"missing\": \"0\"}, \"transformation\": [{\"transformation\": \"novalue\", \"selectedAsDefault\": 1}], \"updatedLabel\": \"CASH_ADVANCE_FREQUENCY\"}, {\"transformationsData\": [{\"transformation_label\": \"novalue\"}], \"feature\": \"CASH_ADVANCE_TRX\", \"transformation\": [{\"transformation\": \"novalue\", \"selectedAsDefault\": 1}], \"type\": \"numeric\", \"replaceby\": \"mean\", \"selected\": \"True\", \"stats\": {\"count\": \"99\", \"mean\": \"3.47\", \"stddev\": \"6.4\", \"min\": \"0\", \"max\": \"37\", \"missing\": \"0\"}, \"updatedLabel\": \"CASH_ADVANCE_TRX\"}, {\"transformationsData\": [{\"transformation_label\": \"novalue\"}], \"feature\": \"PURCHASES_TRX\", \"transformation\": [{\"transformation\": \"novalue\", \"selectedAsDefault\": 1}], \"type\": \"numeric\", \"replaceby\": \"mean\", \"selected\": \"True\", \"stats\": {\"count\": \"99\", \"mean\": \"12.98\", \"stddev\": \"18.71\", \"min\": \"0\", \"max\": \"92\", \"missing\": \"0\"}, \"updatedLabel\": \"PURCHASES_TRX\"}, {\"transformationsData\": [{\"transformation_label\": \"novalue\"}], \"feature\": \"CREDIT_LIMIT\", \"transformation\": [{\"transformation\": \"novalue\", \"selectedAsDefault\": 1}], \"type\": \"numeric\", \"replaceby\": \"mean\", \"selected\": \"True\", \"stats\": {\"count\": \"99\", \"mean\": \"5347.98\", \"stddev\": \"3692.48\", \"min\": \"1000\", \"max\": \"16500\", \"missing\": \"0\"}, \"updatedLabel\": \"CREDIT_LIMIT\"}, {\"transformationsData\": [{\"transformation_label\": \"novalue\"}], \"feature\": \"PAYMENTS\", \"type\": \"real\", \"selected\": \"True\", \"replaceby\": \"mean\", \"stats\": {\"count\": \"99\", \"mean\": \"2112.13\", \"stddev\": \"3793.05\", \"min\": \"0.0\", \"max\": \"28232.69446\", \"missing\": \"0\"}, \"transformation\": [{\"transformation\": \"novalue\", \"selectedAsDefault\": 1}], \"updatedLabel\": \"PAYMENTS\"}, {\"transformationsData\": [{\"transformation_label\": \"novalue\"}], \"feature\": \"MINIMUM_PAYMENTS\", \"type\": \"real\", \"selected\": \"True\", \"replaceby\": \"mean\", \"stats\": {\"count\": \"89\", \"mean\": \"1576.37\", \"stddev\": \"2892.63\", \"min\": \"73.203221\", \"max\": \"17862.55831\", \"missing\": \"10\"}, \"transformation\": [{\"transformation\": \"novalue\", \"selectedAsDefault\": 1}], \"updatedLabel\": \"MINIMUM_PAYMENTS\"}, {\"transformationsData\": [{\"transformation_label\": \"novalue\"}], \"feature\": \"PRC_FULL_PAYMENT\", \"type\": \"real\", \"selected\": \"True\", \"replaceby\": \"mean\", \"stats\": {\"count\": \"99\", \"mean\": \"0.09\", \"stddev\": \"0.23\", \"min\": \"0.0\", \"max\": \"1.0\", \"missing\": \"0\"}, \"transformation\": [{\"transformation\": \"novalue\", \"selectedAsDefault\": 1}], \"updatedLabel\": \"PRC_FULL_PAYMENT\"}, {\"transformationsData\": [{\"transformation_label\": \"novalue\"}], \"feature\": \"TENURE\", \"transformation\": [{\"transformation\": \"novalue\", \"selectedAsDefault\": 1}], \"type\": \"numeric\", \"replaceby\": \"mean\", \"selected\": \"True\", \"stats\": {\"count\": \"99\", \"mean\": \"11.69\", \"stddev\": \"0.95\", \"min\": \"8\", \"max\": \"12\", \"missing\": \"0\"}, \"updatedLabel\": \"TENURE\"}]}))\n",
    "\n",
    "\t#transformationPostExecutionHook(mayclusccexautofe)\n",
    "\n",
    "except Exception as ex: \n",
    "\tlogging.error(ex)\n"
   ]
  },
  {
   "cell_type": "markdown",
   "id": "849e3b50",
   "metadata": {},
   "source": [
    "***TRAIN MODEL***"
   ]
  },
  {
   "cell_type": "code",
   "execution_count": null,
   "id": "b372f15b",
   "metadata": {},
   "outputs": [],
   "source": [
    "#%run 3mayclusccexHooks.ipynb\n",
    "try:\n",
    "\t#mlPreExecutionHook()\n",
    "\n",
    "\tmayclusccexclustering = Clustering.run(mayclusccexautofe,spark,json.dumps( {\"autoClustering\": 0, \"defaultclusters\": 0, \"TrainingPercent\": \"100\", \"model\": \"Kmeans\", \"originalfile\": \"/FileStore/platform/extra/tempFile1683120065.csv\", \"paascall\": 1, \"totalClusters\": 2}))\n",
    "\n",
    "\t#mlPostExecutionHook(mayclusccexclustering)\n",
    "\n",
    "except Exception as ex: \n",
    "\tlogging.error(ex)\n"
   ]
  }
 ],
 "metadata": {},
 "nbformat": 4,
 "nbformat_minor": 5
}
